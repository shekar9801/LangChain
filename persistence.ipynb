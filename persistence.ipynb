{
 "cells": [
  {
   "cell_type": "markdown",
   "id": "431f8f5c",
   "metadata": {},
   "source": [
    "<h2>Persistence</h2>\n",
    "\n",
    "\n",
    " 1. Persistence in LangGraph refers to the ability to save and restore the state of a workflow over time."
   ]
  },
  {
   "cell_type": "code",
   "execution_count": 5,
   "id": "b75f726d",
   "metadata": {},
   "outputs": [],
   "source": [
    "from langchain.chat_models import ChatOllama\n",
    "from langgraph.graph import StateGraph, START, END\n",
    "from typing import TypedDict\n",
    "from langgraph.checkpoint.memory import InMemorySaver"
   ]
  },
  {
   "cell_type": "code",
   "execution_count": 3,
   "id": "511506e1",
   "metadata": {},
   "outputs": [],
   "source": [
    "model = ChatOllama(model='mistral-nemo:12b')"
   ]
  },
  {
   "cell_type": "code",
   "execution_count": 6,
   "id": "870db887",
   "metadata": {},
   "outputs": [],
   "source": [
    "class JokeState(TypedDict):\n",
    "    topic: str\n",
    "    joke:str\n",
    "    explanation: str"
   ]
  },
  {
   "cell_type": "code",
   "execution_count": null,
   "id": "dd13e9a6",
   "metadata": {},
   "outputs": [],
   "source": [
    "def generate_joke(state: JokeState):\n",
    "    prompt = f\"generate a joke on the topic {state['topic']}\"\n",
    "    response = model.invoke(prompt).content\n",
    "    \n",
    "    return {'joke': response}"
   ]
  },
  {
   "cell_type": "code",
   "execution_count": 9,
   "id": "88a3939f",
   "metadata": {},
   "outputs": [],
   "source": [
    "def generate_explanation(state: JokeState):\n",
    "    prompt = f\"write an explanation for the joke - {state['joke']}\"\n",
    "    response = model.invoke(prompt).content\n",
    "    \n",
    "    return {'explanation':response}"
   ]
  },
  {
   "cell_type": "code",
   "execution_count": 13,
   "id": "13121578",
   "metadata": {},
   "outputs": [],
   "source": [
    "graph = StateGraph(JokeState)\n",
    "\n",
    "graph.add_node('generate_joke', generate_joke)\n",
    "graph.add_node('generate_explanation', generate_explanation)\n",
    "\n",
    "graph.add_edge(START, 'generate_joke')\n",
    "graph.add_edge('generate_joke', 'generate_explanation')\n",
    "graph.add_edge('generate_explanation', END)\n",
    "\n",
    "checkpointer = InMemorySaver()\n",
    "\n",
    "workflow = graph.compile(checkpointer=checkpointer)"
   ]
  },
  {
   "cell_type": "code",
   "execution_count": 14,
   "id": "4f40973f",
   "metadata": {},
   "outputs": [
    {
     "data": {
      "image/png": "[encoded data removed]",
      "text/plain": [
       "<langgraph.graph.state.CompiledStateGraph object at 0x7a4389bd73a0>"
      ]
     },
     "execution_count": 14,
     "metadata": {},
     "output_type": "execute_result"
    }
   ],
   "source": [
    "workflow"
   ]
  },
  {
   "cell_type": "code",
   "execution_count": 16,
   "id": "fb173f3e",
   "metadata": {},
   "outputs": [
    {
     "data": {
      "text/plain": [
       "{'topic': 'pizza',\n",
       " 'joke': \"Why did the pizza maker go broke? He just couldn't make enough dough. (And he didn't knead it!)\",\n",
       " 'explanation': 'This joke is a play on words, or a pun, involving two different meanings of the word \"dough.\"\\n\\n1. In the context of pizza making, \"dough\" refers to the mixture of ingredients used to make the pizza base.\\n2. In financial terms, \"dough\" can also mean money.\\n\\nThe humor comes from switching between these two meanings:\\n\\n- The setup \"Why did the pizza maker go broke?\" leads us to expect a reason related to finances or business failure.\\n- The punchline \"He just couldn\\'t make enough dough\" initially seems to refer to an inability to create sufficient pizza dough, which isn\\'t surprising since pizza makers typically need plenty of dough for their products.\\n- But then we remember the other meaning of \"dough,\" and realize that the joke is actually saying he didn\\'t earn enough money (\"make enough dough\") to keep his business afloat.\\n\\nThe additional line \"(And he didn\\'t knead it!)\" reinforces the pun, as \"knead\" is another term related to handling pizza dough. The humor lies in the unexpected shift between these two meanings of \"dough.\"'}"
      ]
     },
     "execution_count": 16,
     "metadata": {},
     "output_type": "execute_result"
    }
   ],
   "source": [
    "config = {'configurable':{'thread_id':\"i\"}}\n",
    "workflow.invoke({'topic':'pizza'}, config=config)"
   ]
  },
  {
   "cell_type": "code",
   "execution_count": 17,
   "id": "30e0ab23",
   "metadata": {},
   "outputs": [
    {
     "data": {
      "text/plain": [
       "[StateSnapshot(values={'topic': 'pizza', 'joke': \"Why did the pizza maker go broke? He just couldn't make enough dough. (And he didn't knead it!)\", 'explanation': 'This joke is a play on words, or a pun, involving two different meanings of the word \"dough.\"\\n\\n1. In the context of pizza making, \"dough\" refers to the mixture of ingredients used to make the pizza base.\\n2. In financial terms, \"dough\" can also mean money.\\n\\nThe humor comes from switching between these two meanings:\\n\\n- The setup \"Why did the pizza maker go broke?\" leads us to expect a reason related to finances or business failure.\\n- The punchline \"He just couldn\\'t make enough dough\" initially seems to refer to an inability to create sufficient pizza dough, which isn\\'t surprising since pizza makers typically need plenty of dough for their products.\\n- But then we remember the other meaning of \"dough,\" and realize that the joke is actually saying he didn\\'t earn enough money (\"make enough dough\") to keep his business afloat.\\n\\nThe additional line \"(And he didn\\'t knead it!)\" reinforces the pun, as \"knead\" is another term related to handling pizza dough. The humor lies in the unexpected shift between these two meanings of \"dough.\"'}, next=(), config={'configurable': {'thread_id': 'i', 'checkpoint_ns': '', 'checkpoint_id': '1f081690-4051-660d-8002-90c9af48ecad'}}, metadata={'source': 'loop', 'step': 2, 'parents': {}}, created_at='2025-08-25T04:07:28.747628+00:00', parent_config={'configurable': {'thread_id': 'i', 'checkpoint_ns': '', 'checkpoint_id': '1f081690-209f-658c-8001-343ea39b0297'}}, tasks=(), interrupts=()),\n",
       " StateSnapshot(values={'topic': 'pizza', 'joke': \"Why did the pizza maker go broke? He just couldn't make enough dough. (And he didn't knead it!)\"}, next=('generate_explanation',), config={'configurable': {'thread_id': 'i', 'checkpoint_ns': '', 'checkpoint_id': '1f081690-209f-658c-8001-343ea39b0297'}}, metadata={'source': 'loop', 'step': 1, 'parents': {}}, created_at='2025-08-25T04:07:25.424122+00:00', parent_config={'configurable': {'thread_id': 'i', 'checkpoint_ns': '', 'checkpoint_id': '1f08168f-f7b0-6e4c-8000-5874af960375'}}, tasks=(PregelTask(id='e30dd8d4-203c-0403-6cc1-8c9800de40df', name='generate_explanation', path=('__pregel_pull', 'generate_explanation'), error=None, interrupts=(), state=None, result={'explanation': 'This joke is a play on words, or a pun, involving two different meanings of the word \"dough.\"\\n\\n1. In the context of pizza making, \"dough\" refers to the mixture of ingredients used to make the pizza base.\\n2. In financial terms, \"dough\" can also mean money.\\n\\nThe humor comes from switching between these two meanings:\\n\\n- The setup \"Why did the pizza maker go broke?\" leads us to expect a reason related to finances or business failure.\\n- The punchline \"He just couldn\\'t make enough dough\" initially seems to refer to an inability to create sufficient pizza dough, which isn\\'t surprising since pizza makers typically need plenty of dough for their products.\\n- But then we remember the other meaning of \"dough,\" and realize that the joke is actually saying he didn\\'t earn enough money (\"make enough dough\") to keep his business afloat.\\n\\nThe additional line \"(And he didn\\'t knead it!)\" reinforces the pun, as \"knead\" is another term related to handling pizza dough. The humor lies in the unexpected shift between these two meanings of \"dough.\"'}),), interrupts=()),\n",
       " StateSnapshot(values={'topic': 'pizza'}, next=('generate_joke',), config={'configurable': {'thread_id': 'i', 'checkpoint_ns': '', 'checkpoint_id': '1f08168f-f7b0-6e4c-8000-5874af960375'}}, metadata={'source': 'loop', 'step': 0, 'parents': {}}, created_at='2025-08-25T04:07:21.132155+00:00', parent_config={'configurable': {'thread_id': 'i', 'checkpoint_ns': '', 'checkpoint_id': '1f08168f-f7a6-667f-bfff-c82d00cd1574'}}, tasks=(PregelTask(id='af25b769-1f90-e5be-39ec-1aebcb8a246a', name='generate_joke', path=('__pregel_pull', 'generate_joke'), error=None, interrupts=(), state=None, result={'joke': \"Why did the pizza maker go broke? He just couldn't make enough dough. (And he didn't knead it!)\"}),), interrupts=()),\n",
       " StateSnapshot(values={}, next=('__start__',), config={'configurable': {'thread_id': 'i', 'checkpoint_ns': '', 'checkpoint_id': '1f08168f-f7a6-667f-bfff-c82d00cd1574'}}, metadata={'source': 'input', 'step': -1, 'parents': {}}, created_at='2025-08-25T04:07:21.127861+00:00', parent_config=None, tasks=(PregelTask(id='1cefb855-5d97-023d-72ff-006179d989b9', name='__start__', path=('__pregel_pull', '__start__'), error=None, interrupts=(), state=None, result={'topic': 'pizza'}),), interrupts=())]"
      ]
     },
     "execution_count": 17,
     "metadata": {},
     "output_type": "execute_result"
    }
   ],
   "source": [
    "list(workflow.get_state_history(config))"
   ]
  },
  {
   "cell_type": "markdown",
   "id": "884948f1",
   "metadata": {},
   "source": [
    "<h3>Time Travel</h3>"
   ]
  },
  {
   "cell_type": "code",
   "execution_count": 18,
   "id": "b8ed7fbe",
   "metadata": {},
   "outputs": [],
   "source": [
    "import time"
   ]
  },
  {
   "cell_type": "code",
   "execution_count": 19,
   "id": "de2265eb",
   "metadata": {},
   "outputs": [],
   "source": [
    "class CrashState(TypedDict):\n",
    "    input:str\n",
    "    step1:str\n",
    "    step2:str\n",
    "    step3:str"
   ]
  },
  {
   "cell_type": "code",
   "execution_count": 29,
   "id": "6805f255",
   "metadata": {},
   "outputs": [],
   "source": [
    "def step1(state: CrashState)->CrashState:\n",
    "    print(\"step 1 executed...\")\n",
    "    return {'step1':'done', 'input':state[\"input\"]}\n",
    "\n",
    "\n",
    "def step2(state: CrashState)->CrashState:\n",
    "    print(\"step 2 hanging..... now manually interrupt from the notebook toolbar (STOP Bbutton). \")\n",
    "    time.sleep(30)\n",
    "    return {'step1':'done'}\n",
    "\n",
    "def step3(state: CrashState)->CrashState:\n",
    "    print(\"step 3 executed...\")\n",
    "    return {'step1':'done'}"
   ]
  },
  {
   "cell_type": "code",
   "execution_count": 30,
   "id": "e36ac6ff",
   "metadata": {},
   "outputs": [],
   "source": [
    "builder = StateGraph(CrashState)\n",
    "builder.add_node('step1', step1)\n",
    "builder.add_node('step2', step2)\n",
    "builder.add_node('step3', step3)\n",
    "\n",
    "builder.add_edge(START, 'step1')\n",
    "builder.add_edge('step1', 'step2')\n",
    "builder.add_edge('step2', 'step3')\n",
    "builder.add_edge('step3', END)\n",
    "\n",
    "checkpointer = InMemorySaver()\n",
    "\n",
    "workflow = builder.compile(checkpointer=checkpointer)"
   ]
  },
  {
   "cell_type": "code",
   "execution_count": 31,
   "id": "2edcaf1d",
   "metadata": {},
   "outputs": [
    {
     "data": {
      "image/png": "[encoded data removed]",
      "text/plain": [
       "<langgraph.graph.state.CompiledStateGraph object at 0x7a4372eb3580>"
      ]
     },
     "execution_count": 31,
     "metadata": {},
     "output_type": "execute_result"
    }
   ],
   "source": [
    "workflow"
   ]
  },
  {
   "cell_type": "code",
   "execution_count": 32,
   "id": "c23fdeb4",
   "metadata": {},
   "outputs": [
    {
     "name": "stdout",
     "output_type": "stream",
     "text": [
      "Running graph: Please manually interrupt during Step 2.....\n",
      "step 1 executed...\n",
      "step 2 hanging..... now manually interrupt from the notebook toolbar (STOP Bbutton). \n",
      "Kerner manually interrupted (crash simulated). \n"
     ]
    }
   ],
   "source": [
    "try:\n",
    "    print(\"Running graph: Please manually interrupt during Step 2.....\")\n",
    "    workflow.invoke({\"input\":\"start\"}, config={\"configurable\":{\"thread_id\":\"thread_1\"}})\n",
    "except KeyboardInterrupt:\n",
    "    print(\"Kerner manually interrupted (crash simulated). \")"
   ]
  },
  {
   "cell_type": "code",
   "execution_count": 33,
   "id": "97efcd73",
   "metadata": {},
   "outputs": [
    {
     "data": {
      "text/plain": [
       "StateSnapshot(values={'input': 'start', 'step1': 'done'}, next=('step2',), config={'configurable': {'thread_id': 'thread_1', 'checkpoint_ns': '', 'checkpoint_id': '1f0816bf-0e1e-6fa2-8001-b703c0480159'}}, metadata={'source': 'loop', 'step': 1, 'parents': {}}, created_at='2025-08-25T04:28:25.130753+00:00', parent_config={'configurable': {'thread_id': 'thread_1', 'checkpoint_ns': '', 'checkpoint_id': '1f0816bf-0e14-6333-8000-98d56029ba6c'}}, tasks=(PregelTask(id='cd7c5c4e-2bc4-335e-7533-f84a34ab128c', name='step2', path=('__pregel_pull', 'step2'), error=None, interrupts=(), state=None, result=None),), interrupts=())"
      ]
     },
     "execution_count": 33,
     "metadata": {},
     "output_type": "execute_result"
    }
   ],
   "source": [
    "workflow.get_state({\"configurable\":{\"thread_id\":\"thread_1\"}})"
   ]
  },
  {
   "cell_type": "code",
   "execution_count": 34,
   "id": "9436574e",
   "metadata": {},
   "outputs": [
    {
     "data": {
      "text/plain": [
       "[StateSnapshot(values={'input': 'start', 'step1': 'done'}, next=('step2',), config={'configurable': {'thread_id': 'thread_1', 'checkpoint_ns': '', 'checkpoint_id': '1f0816bf-0e1e-6fa2-8001-b703c0480159'}}, metadata={'source': 'loop', 'step': 1, 'parents': {}}, created_at='2025-08-25T04:28:25.130753+00:00', parent_config={'configurable': {'thread_id': 'thread_1', 'checkpoint_ns': '', 'checkpoint_id': '1f0816bf-0e14-6333-8000-98d56029ba6c'}}, tasks=(PregelTask(id='cd7c5c4e-2bc4-335e-7533-f84a34ab128c', name='step2', path=('__pregel_pull', 'step2'), error=None, interrupts=(), state=None, result=None),), interrupts=()),\n",
       " StateSnapshot(values={'input': 'start'}, next=('step1',), config={'configurable': {'thread_id': 'thread_1', 'checkpoint_ns': '', 'checkpoint_id': '1f0816bf-0e14-6333-8000-98d56029ba6c'}}, metadata={'source': 'loop', 'step': 0, 'parents': {}}, created_at='2025-08-25T04:28:25.126341+00:00', parent_config={'configurable': {'thread_id': 'thread_1', 'checkpoint_ns': '', 'checkpoint_id': '1f0816bf-0e0a-6348-bfff-152c5603668e'}}, tasks=(PregelTask(id='7b2c327b-129d-8eb2-1373-4d5f3c749506', name='step1', path=('__pregel_pull', 'step1'), error=None, interrupts=(), state=None, result={'step1': 'done', 'input': 'start'}),), interrupts=()),\n",
       " StateSnapshot(values={}, next=('__start__',), config={'configurable': {'thread_id': 'thread_1', 'checkpoint_ns': '', 'checkpoint_id': '1f0816bf-0e0a-6348-bfff-152c5603668e'}}, metadata={'source': 'input', 'step': -1, 'parents': {}}, created_at='2025-08-25T04:28:25.122260+00:00', parent_config=None, tasks=(PregelTask(id='66d64ee3-15c9-cf9c-38cf-499d549e2966', name='__start__', path=('__pregel_pull', '__start__'), error=None, interrupts=(), state=None, result={'input': 'start'}),), interrupts=())]"
      ]
     },
     "execution_count": 34,
     "metadata": {},
     "output_type": "execute_result"
    }
   ],
   "source": [
    "list(workflow.get_state_history({\"configurable\":{\"thread_id\":\"thread_1\"}}))"
   ]
  },
  {
   "cell_type": "code",
   "execution_count": 35,
   "id": "a4ca3aa9",
   "metadata": {},
   "outputs": [
    {
     "name": "stdout",
     "output_type": "stream",
     "text": [
      "step 2 hanging..... now manually interrupt from the notebook toolbar (STOP Bbutton). \n",
      "step 3 executed...\n",
      "Final state {'input': 'start', 'step1': 'done'}\n"
     ]
    }
   ],
   "source": [
    "final_state = workflow.invoke(None, config={\"configurable\":{\"thread_id\":\"thread_1\"}})\n",
    "print(\"Final state\", final_state)"
   ]
  },
  {
   "cell_type": "markdown",
   "id": "cd94b733",
   "metadata": {
    "notebookRunGroups": {
     "groupValue": "2"
    }
   },
   "source": [
    "<h3>Streaming<h3>\n",
    "1. In LLMs streaming means the model starts sending tokens(words) as soon as they're generated, instead of waiting for the entire response to be ready before returning it.\n",
    "\n",
    "**Why Streaming.?**\n",
    "1. Faster response time - low drop-off rates.\n",
    "2. Mimic human like conversation(Builds trust, feels alive and keeps the user engaged).\n",
    "3. Important for Multi-modal UIs.\n",
    "4. Better UX for long output such as code.\n",
    "5. You can cancel mideway saving tokens.\n",
    "6. You can interleave UI updates, e.g., show \"thinking...\", show tools results.\n",
    "\n",
    "**Generators**\n",
    "\n",
    "In Python, a generator is a special type of iterator that allows you to generate values on the fly, one at a timem using the yield keyword instead of return."
   ]
  },
  {
   "cell_type": "markdown",
   "id": "adaf55b0",
   "metadata": {},
   "source": [
    "<h3>What is LangSmith<h3>\n",
    "\n",
    "1. LangSmith is a unified observability & evaluation platform where teams can debug, test and monitor AI app performance."
   ]
  },
  {
   "cell_type": "code",
   "execution_count": 40,
   "id": "0ff77e92",
   "metadata": {},
   "outputs": [],
   "source": [
    "from langgraph.graph import StateGraph, START, END\n",
    "from typing import TypedDict, Annotated\n",
    "from langchain_core.messages import BaseMessage, HumanMessage\n",
    "from langchain_ollama import ChatOllama\n",
    "from langgraph.graph.message import add_messages\n",
    "\n",
    "from langgraph.prebuilt import ToolNode, tools_condition\n",
    "from langchain_community.tools import DuckDuckGoSearchRun\n",
    "from langchain_core.tools import tool\n",
    "\n",
    "import requests\n",
    "import random"
   ]
  },
  {
   "cell_type": "code",
   "execution_count": 38,
   "id": "4fb3a6d1",
   "metadata": {},
   "outputs": [],
   "source": [
    "model = ChatOllama(model='gpt-oss:20b')"
   ]
  },
  {
   "cell_type": "code",
   "execution_count": 42,
   "id": "957855f1",
   "metadata": {},
   "outputs": [],
   "source": [
    "search_tool = DuckDuckGoSearchRun(region=\"us-en\")\n",
    "\n",
    "@tool\n",
    "def calculator(first_num: float, second_num: float, operation:str)->dict:\n",
    "    \"\"\"\n",
    "    Perform a basic arithmetic operation on two numbers.\n",
    "    Supported operations: add, sub, mul, div.\n",
    "    \"\"\"\n",
    "    \n",
    "    try:\n",
    "        if operation==\"add\":\n",
    "            result = first_num+second_num\n",
    "        elif operation==\"sub\":\n",
    "            result = first_num-second_num\n",
    "        elif operation==\"mul\":\n",
    "            result = first_num*second_num\n",
    "        elif operation==\"div\":\n",
    "            if second_num==0:\n",
    "                return {\"error\": \"Division by zero is not allowed\"}\n",
    "            result = first_num/second_num\n",
    "        else:\n",
    "            return {'error': f\"Unsupported operation '{operation}'\"}\n",
    "        \n",
    "        return {\"first_num\":first_num, \"second_num\":second_num, \"operation\":operation,\n",
    "                \"result\":result}\n",
    "    except Exception as e:\n",
    "        return {\"error\": str(e)}\n",
    "        \n",
    "        "
   ]
  },
  {
   "cell_type": "code",
   "execution_count": 43,
   "id": "7bab2f6e",
   "metadata": {},
   "outputs": [],
   "source": [
    "tools = [search_tool, calculator]\n",
    "llm_with_tools = model.bind_tools(tools)"
   ]
  },
  {
   "cell_type": "code",
   "execution_count": 44,
   "id": "1e8caf6a",
   "metadata": {},
   "outputs": [],
   "source": [
    "class ChatState(TypedDict):\n",
    "    messages:Annotated[list[BaseMessage], add_messages]\n",
    "    "
   ]
  },
  {
   "cell_type": "code",
   "execution_count": 47,
   "id": "672a439b",
   "metadata": {},
   "outputs": [],
   "source": [
    "def chat_node(state: ChatState):\n",
    "    \"\"\"\n",
    "    LLM node that may answer or request a tool call.\n",
    "    \"\"\"\n",
    "    messages = state['messages']\n",
    "    response = llm_with_tools.invoke(messages)\n",
    "    return {'messages': [response]}\n",
    "\n",
    "\n",
    "tool_node= ToolNode(tools)"
   ]
  },
  {
   "cell_type": "code",
   "execution_count": 56,
   "id": "25405945",
   "metadata": {},
   "outputs": [
    {
     "data": {
      "text/plain": [
       "<langgraph.graph.state.StateGraph at 0x7a43706e2e00>"
      ]
     },
     "execution_count": 56,
     "metadata": {},
     "output_type": "execute_result"
    }
   ],
   "source": [
    "graph = StateGraph(ChatState)\n",
    "graph.add_node(\"chat_node\", chat_node)\n",
    "graph.add_node(\"tools\", tool_node)"
   ]
  },
  {
   "cell_type": "code",
   "execution_count": 57,
   "id": "744e357a",
   "metadata": {},
   "outputs": [
    {
     "data": {
      "text/plain": [
       "<langgraph.graph.state.StateGraph at 0x7a43706e2e00>"
      ]
     },
     "execution_count": 57,
     "metadata": {},
     "output_type": "execute_result"
    }
   ],
   "source": [
    "graph.add_edge(START, \"chat_node\")\n",
    "\n",
    "graph.add_conditional_edges(\"chat_node\", tools_condition)\n",
    "graph.add_edge(\"tools\", \"chat_node\")\n"
   ]
  },
  {
   "cell_type": "code",
   "execution_count": 58,
   "id": "76daca05",
   "metadata": {},
   "outputs": [
    {
     "data": {
      "image/png": "[encoded data removed]",
      "text/plain": [
       "<langgraph.graph.state.CompiledStateGraph object at 0x7a43706e19c0>"
      ]
     },
     "execution_count": 58,
     "metadata": {},
     "output_type": "execute_result"
    }
   ],
   "source": [
    "chatbot = graph.compile()\n",
    "chatbot"
   ]
  },
  {
   "cell_type": "code",
   "execution_count": 59,
   "id": "143afd0c",
   "metadata": {},
   "outputs": [
    {
     "name": "stdout",
     "output_type": "stream",
     "text": [
      "Hello! How can I help you today?\n"
     ]
    }
   ],
   "source": [
    "out = chatbot.invoke({\"messages\":[HumanMessage(content=\"Hello!\")]})\n",
    "print(out['messages'][-1].content)"
   ]
  },
  {
   "cell_type": "code",
   "execution_count": 67,
   "id": "f7a54d00",
   "metadata": {},
   "outputs": [
    {
     "name": "stdout",
     "output_type": "stream",
     "text": [
      "The result of 8 + 5 is **13**.\n"
     ]
    }
   ],
   "source": [
    "out = chatbot.invoke({\"messages\":[HumanMessage(content=\"what is 8+5.?\")]})\n",
    "print(out['messages'][-1].content)"
   ]
  },
  {
   "cell_type": "code",
   "execution_count": null,
   "id": "80debf3f",
   "metadata": {},
   "outputs": [],
   "source": []
  }
 ],
 "metadata": {
  "kernelspec": {
   "display_name": "hello",
   "language": "python",
   "name": "python3"
  },
  "language_info": {
   "codemirror_mode": {
    "name": "ipython",
    "version": 3
   },
   "file_extension": ".py",
   "mimetype": "text/x-python",
   "name": "python",
   "nbconvert_exporter": "python",
   "pygments_lexer": "ipython3",
   "version": "3.10.12"
  }
 },
 "nbformat": 4,
 "nbformat_minor": 5
}
